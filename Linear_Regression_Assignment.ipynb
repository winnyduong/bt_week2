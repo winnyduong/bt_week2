{
 "cells": [
  {
   "cell_type": "markdown",
   "metadata": {},
   "source": [
    "\n",
    "# Linear Regression\n",
    "\n",
    "Congratulations! You just got some contract work with an Ecommerce company that sells clothing online but they also have in-store style and clothing advice sessions. Customers come in to the store, have sessions/meetings with a personal stylist, then they can go home and order either on a mobile app or website for the clothes they want.\n",
    "\n",
    "The company is trying to decide whether to focus their efforts on their mobile app experience or their website. They've hired you on contract to help them figure it out! Let's get started!\n",
    "\n",
    "Just follow the steps below to analyze the customer data (it's fake, don't worry I didn't give you real credit card numbers or emails)."
   ]
  },
  {
   "cell_type": "markdown",
   "metadata": {},
   "source": [
    "## Imports\n",
    "** Import pandas, numpy, matplotlib,and seaborn. Then set %matplotlib inline \n",
    "(You'll import sklearn as you need it.)**"
   ]
  },
  {
   "cell_type": "code",
   "execution_count": 69,
   "metadata": {},
   "outputs": [],
   "source": [
    "import pandas as pd\n",
    "import numpy as np\n",
    "import matplotlib.pyplot as plt\n",
    "import seaborn as sns\n",
    "import sklearn as sk"
   ]
  },
  {
   "cell_type": "markdown",
   "metadata": {},
   "source": [
    "## Get the Data\n",
    "\n",
    "We'll work with the Ecommerce Customers csv file from the company. It has Customer info, suchas Email, Address, and their color Avatar. Then it also has numerical value columns:\n",
    "\n",
    "* Avg. Session Length: Average session of in-store style advice sessions.\n",
    "* Time on App: Average time spent on App in minutes\n",
    "* Time on Website: Average time spent on Website in minutes\n",
    "* Length of Membership: How many years the customer has been a member.\n",
    "\n",
    "** 1. Read in the Ecommerce Customers csv file as a DataFrame called customers. __5pts__**"
   ]
  },
  {
   "cell_type": "code",
   "execution_count": 8,
   "metadata": {},
   "outputs": [],
   "source": [
    "customers = pd.read_csv('./Ecommerce.csv')"
   ]
  },
  {
   "cell_type": "markdown",
   "metadata": {},
   "source": [
    "**Check the head of customers, and check out its info() and describe() methods.**"
   ]
  },
  {
   "cell_type": "code",
   "execution_count": 11,
   "metadata": {},
   "outputs": [
    {
     "data": {
      "text/html": [
       "<div>\n",
       "<style scoped>\n",
       "    .dataframe tbody tr th:only-of-type {\n",
       "        vertical-align: middle;\n",
       "    }\n",
       "\n",
       "    .dataframe tbody tr th {\n",
       "        vertical-align: top;\n",
       "    }\n",
       "\n",
       "    .dataframe thead th {\n",
       "        text-align: right;\n",
       "    }\n",
       "</style>\n",
       "<table border=\"1\" class=\"dataframe\">\n",
       "  <thead>\n",
       "    <tr style=\"text-align: right;\">\n",
       "      <th></th>\n",
       "      <th>Email</th>\n",
       "      <th>Address</th>\n",
       "      <th>Avatar</th>\n",
       "      <th>Avg. Session Length</th>\n",
       "      <th>Time on App</th>\n",
       "      <th>Time on Website</th>\n",
       "      <th>Length of Membership</th>\n",
       "      <th>Yearly Amount Spent</th>\n",
       "    </tr>\n",
       "  </thead>\n",
       "  <tbody>\n",
       "    <tr>\n",
       "      <th>0</th>\n",
       "      <td>mstephenson@fernandez.com</td>\n",
       "      <td>835 Frank Tunnel\\nWrightmouth, MI 82180-9605</td>\n",
       "      <td>Violet</td>\n",
       "      <td>34.497268</td>\n",
       "      <td>12.655651</td>\n",
       "      <td>39.577668</td>\n",
       "      <td>4.082621</td>\n",
       "      <td>587.951054</td>\n",
       "    </tr>\n",
       "    <tr>\n",
       "      <th>1</th>\n",
       "      <td>hduke@hotmail.com</td>\n",
       "      <td>4547 Archer Common\\nDiazchester, CA 06566-8576</td>\n",
       "      <td>DarkGreen</td>\n",
       "      <td>31.926272</td>\n",
       "      <td>11.109461</td>\n",
       "      <td>37.268959</td>\n",
       "      <td>2.664034</td>\n",
       "      <td>392.204933</td>\n",
       "    </tr>\n",
       "    <tr>\n",
       "      <th>2</th>\n",
       "      <td>pallen@yahoo.com</td>\n",
       "      <td>24645 Valerie Unions Suite 582\\nCobbborough, D...</td>\n",
       "      <td>Bisque</td>\n",
       "      <td>33.000915</td>\n",
       "      <td>11.330278</td>\n",
       "      <td>37.110597</td>\n",
       "      <td>4.104543</td>\n",
       "      <td>487.547505</td>\n",
       "    </tr>\n",
       "    <tr>\n",
       "      <th>3</th>\n",
       "      <td>riverarebecca@gmail.com</td>\n",
       "      <td>1414 David Throughway\\nPort Jason, OH 22070-1220</td>\n",
       "      <td>SaddleBrown</td>\n",
       "      <td>34.305557</td>\n",
       "      <td>13.717514</td>\n",
       "      <td>36.721283</td>\n",
       "      <td>3.120179</td>\n",
       "      <td>581.852344</td>\n",
       "    </tr>\n",
       "    <tr>\n",
       "      <th>4</th>\n",
       "      <td>mstephens@davidson-herman.com</td>\n",
       "      <td>14023 Rodriguez Passage\\nPort Jacobville, PR 3...</td>\n",
       "      <td>MediumAquaMarine</td>\n",
       "      <td>33.330673</td>\n",
       "      <td>12.795189</td>\n",
       "      <td>37.536653</td>\n",
       "      <td>4.446308</td>\n",
       "      <td>599.406092</td>\n",
       "    </tr>\n",
       "  </tbody>\n",
       "</table>\n",
       "</div>"
      ],
      "text/plain": [
       "                           Email  \\\n",
       "0      mstephenson@fernandez.com   \n",
       "1              hduke@hotmail.com   \n",
       "2               pallen@yahoo.com   \n",
       "3        riverarebecca@gmail.com   \n",
       "4  mstephens@davidson-herman.com   \n",
       "\n",
       "                                             Address            Avatar  \\\n",
       "0       835 Frank Tunnel\\nWrightmouth, MI 82180-9605            Violet   \n",
       "1     4547 Archer Common\\nDiazchester, CA 06566-8576         DarkGreen   \n",
       "2  24645 Valerie Unions Suite 582\\nCobbborough, D...            Bisque   \n",
       "3   1414 David Throughway\\nPort Jason, OH 22070-1220       SaddleBrown   \n",
       "4  14023 Rodriguez Passage\\nPort Jacobville, PR 3...  MediumAquaMarine   \n",
       "\n",
       "   Avg. Session Length  Time on App  Time on Website  Length of Membership  \\\n",
       "0            34.497268    12.655651        39.577668              4.082621   \n",
       "1            31.926272    11.109461        37.268959              2.664034   \n",
       "2            33.000915    11.330278        37.110597              4.104543   \n",
       "3            34.305557    13.717514        36.721283              3.120179   \n",
       "4            33.330673    12.795189        37.536653              4.446308   \n",
       "\n",
       "   Yearly Amount Spent  \n",
       "0           587.951054  \n",
       "1           392.204933  \n",
       "2           487.547505  \n",
       "3           581.852344  \n",
       "4           599.406092  "
      ]
     },
     "execution_count": 11,
     "metadata": {},
     "output_type": "execute_result"
    }
   ],
   "source": [
    "customers.head()"
   ]
  },
  {
   "cell_type": "code",
   "execution_count": 12,
   "metadata": {},
   "outputs": [
    {
     "name": "stdout",
     "output_type": "stream",
     "text": [
      "<class 'pandas.core.frame.DataFrame'>\n",
      "RangeIndex: 500 entries, 0 to 499\n",
      "Data columns (total 8 columns):\n",
      "Email                   500 non-null object\n",
      "Address                 500 non-null object\n",
      "Avatar                  500 non-null object\n",
      "Avg. Session Length     500 non-null float64\n",
      "Time on App             500 non-null float64\n",
      "Time on Website         500 non-null float64\n",
      "Length of Membership    500 non-null float64\n",
      "Yearly Amount Spent     500 non-null float64\n",
      "dtypes: float64(5), object(3)\n",
      "memory usage: 31.3+ KB\n"
     ]
    }
   ],
   "source": [
    "customers.info()"
   ]
  },
  {
   "cell_type": "code",
   "execution_count": 13,
   "metadata": {},
   "outputs": [
    {
     "data": {
      "text/html": [
       "<div>\n",
       "<style scoped>\n",
       "    .dataframe tbody tr th:only-of-type {\n",
       "        vertical-align: middle;\n",
       "    }\n",
       "\n",
       "    .dataframe tbody tr th {\n",
       "        vertical-align: top;\n",
       "    }\n",
       "\n",
       "    .dataframe thead th {\n",
       "        text-align: right;\n",
       "    }\n",
       "</style>\n",
       "<table border=\"1\" class=\"dataframe\">\n",
       "  <thead>\n",
       "    <tr style=\"text-align: right;\">\n",
       "      <th></th>\n",
       "      <th>Avg. Session Length</th>\n",
       "      <th>Time on App</th>\n",
       "      <th>Time on Website</th>\n",
       "      <th>Length of Membership</th>\n",
       "      <th>Yearly Amount Spent</th>\n",
       "    </tr>\n",
       "  </thead>\n",
       "  <tbody>\n",
       "    <tr>\n",
       "      <th>count</th>\n",
       "      <td>500.000000</td>\n",
       "      <td>500.000000</td>\n",
       "      <td>500.000000</td>\n",
       "      <td>500.000000</td>\n",
       "      <td>500.000000</td>\n",
       "    </tr>\n",
       "    <tr>\n",
       "      <th>mean</th>\n",
       "      <td>33.053194</td>\n",
       "      <td>12.052488</td>\n",
       "      <td>37.060445</td>\n",
       "      <td>3.533462</td>\n",
       "      <td>499.314038</td>\n",
       "    </tr>\n",
       "    <tr>\n",
       "      <th>std</th>\n",
       "      <td>0.992563</td>\n",
       "      <td>0.994216</td>\n",
       "      <td>1.010489</td>\n",
       "      <td>0.999278</td>\n",
       "      <td>79.314782</td>\n",
       "    </tr>\n",
       "    <tr>\n",
       "      <th>min</th>\n",
       "      <td>29.532429</td>\n",
       "      <td>8.508152</td>\n",
       "      <td>33.913847</td>\n",
       "      <td>0.269901</td>\n",
       "      <td>256.670582</td>\n",
       "    </tr>\n",
       "    <tr>\n",
       "      <th>25%</th>\n",
       "      <td>32.341822</td>\n",
       "      <td>11.388153</td>\n",
       "      <td>36.349257</td>\n",
       "      <td>2.930450</td>\n",
       "      <td>445.038277</td>\n",
       "    </tr>\n",
       "    <tr>\n",
       "      <th>50%</th>\n",
       "      <td>33.082008</td>\n",
       "      <td>11.983231</td>\n",
       "      <td>37.069367</td>\n",
       "      <td>3.533975</td>\n",
       "      <td>498.887875</td>\n",
       "    </tr>\n",
       "    <tr>\n",
       "      <th>75%</th>\n",
       "      <td>33.711985</td>\n",
       "      <td>12.753850</td>\n",
       "      <td>37.716432</td>\n",
       "      <td>4.126502</td>\n",
       "      <td>549.313828</td>\n",
       "    </tr>\n",
       "    <tr>\n",
       "      <th>max</th>\n",
       "      <td>36.139662</td>\n",
       "      <td>15.126994</td>\n",
       "      <td>40.005182</td>\n",
       "      <td>6.922689</td>\n",
       "      <td>765.518462</td>\n",
       "    </tr>\n",
       "  </tbody>\n",
       "</table>\n",
       "</div>"
      ],
      "text/plain": [
       "       Avg. Session Length  Time on App  Time on Website  \\\n",
       "count           500.000000   500.000000       500.000000   \n",
       "mean             33.053194    12.052488        37.060445   \n",
       "std               0.992563     0.994216         1.010489   \n",
       "min              29.532429     8.508152        33.913847   \n",
       "25%              32.341822    11.388153        36.349257   \n",
       "50%              33.082008    11.983231        37.069367   \n",
       "75%              33.711985    12.753850        37.716432   \n",
       "max              36.139662    15.126994        40.005182   \n",
       "\n",
       "       Length of Membership  Yearly Amount Spent  \n",
       "count            500.000000           500.000000  \n",
       "mean               3.533462           499.314038  \n",
       "std                0.999278            79.314782  \n",
       "min                0.269901           256.670582  \n",
       "25%                2.930450           445.038277  \n",
       "50%                3.533975           498.887875  \n",
       "75%                4.126502           549.313828  \n",
       "max                6.922689           765.518462  "
      ]
     },
     "execution_count": 13,
     "metadata": {},
     "output_type": "execute_result"
    }
   ],
   "source": [
    "customers.describe()"
   ]
  },
  {
   "cell_type": "markdown",
   "metadata": {},
   "source": [
    "## Exploratory Data Analysis\n",
    "\n",
    "**Let's explore the data!**\n",
    "\n",
    "For the rest of the exercise we'll only be using the numerical data of the csv file.\n",
    "___\n",
    "**2. Use seaborn to create a jointplot to compare the Time on Website and Yearly Amount Spent columns. Does the correlation make sense?**\n",
    "5pts"
   ]
  },
  {
   "cell_type": "code",
   "execution_count": 16,
   "metadata": {},
   "outputs": [
    {
     "name": "stderr",
     "output_type": "stream",
     "text": [
      "/Users/chhquyen/anaconda3/lib/python3.7/site-packages/scipy/stats/stats.py:1713: FutureWarning: Using a non-tuple sequence for multidimensional indexing is deprecated; use `arr[tuple(seq)]` instead of `arr[seq]`. In the future this will be interpreted as an array index, `arr[np.array(seq)]`, which will result either in an error or a different result.\n",
      "  return np.add.reduce(sorted[indexer] * weights, axis=axis) / sumval\n"
     ]
    },
    {
     "data": {
      "text/plain": [
       "<seaborn.axisgrid.JointGrid at 0x1a1b710ba8>"
      ]
     },
     "execution_count": 16,
     "metadata": {},
     "output_type": "execute_result"
    },
    {
     "data": {
      "image/png": "[encoded data removed]",
      "text/plain": [
       "<Figure size 432x432 with 3 Axes>"
      ]
     },
     "metadata": {
      "needs_background": "light"
     },
     "output_type": "display_data"
    }
   ],
   "source": [
    "sns.jointplot(x=\"Time on Website\",y=\"Yearly Amount Spent\", data=customers)"
   ]
  },
  {
   "cell_type": "code",
   "execution_count": 8,
   "metadata": {},
   "outputs": [
    {
     "name": "stderr",
     "output_type": "stream",
     "text": [
      "/home/dks/anaconda3/envs/py3/lib/python3.6/site-packages/matplotlib/axes/_axes.py:6462: UserWarning: The 'normed' kwarg is deprecated, and has been replaced by the 'density' kwarg.\n",
      "  warnings.warn(\"The 'normed' kwarg is deprecated, and has been \"\n",
      "/home/dks/anaconda3/envs/py3/lib/python3.6/site-packages/matplotlib/axes/_axes.py:6462: UserWarning: The 'normed' kwarg is deprecated, and has been replaced by the 'density' kwarg.\n",
      "  warnings.warn(\"The 'normed' kwarg is deprecated, and has been \"\n"
     ]
    },
    {
     "data": {
      "text/plain": [
       "<seaborn.axisgrid.JointGrid at 0x7f47127670b8>"
      ]
     },
     "execution_count": 8,
     "metadata": {},
     "output_type": "execute_result"
    },
    {
     "data": {
      "image/png": "[encoded data removed]",
      "text/plain": [
       "<Figure size 432x432 with 3 Axes>"
      ]
     },
     "metadata": {},
     "output_type": "display_data"
    }
   ],
   "source": []
  },
  {
   "cell_type": "markdown",
   "metadata": {},
   "source": [
    "** 3. Do the same but with the Time on App column instead. **\n",
    "5pts"
   ]
  },
  {
   "cell_type": "code",
   "execution_count": 18,
   "metadata": {},
   "outputs": [
    {
     "name": "stderr",
     "output_type": "stream",
     "text": [
      "/Users/chhquyen/anaconda3/lib/python3.7/site-packages/scipy/stats/stats.py:1713: FutureWarning: Using a non-tuple sequence for multidimensional indexing is deprecated; use `arr[tuple(seq)]` instead of `arr[seq]`. In the future this will be interpreted as an array index, `arr[np.array(seq)]`, which will result either in an error or a different result.\n",
      "  return np.add.reduce(sorted[indexer] * weights, axis=axis) / sumval\n"
     ]
    },
    {
     "data": {
      "text/plain": [
       "<seaborn.axisgrid.JointGrid at 0x1a1bf6ca20>"
      ]
     },
     "execution_count": 18,
     "metadata": {},
     "output_type": "execute_result"
    },
    {
     "data": {
      "image/png": "[encoded data removed]",
      "text/plain": [
       "<Figure size 432x432 with 3 Axes>"
      ]
     },
     "metadata": {
      "needs_background": "light"
     },
     "output_type": "display_data"
    }
   ],
   "source": [
    "sns.jointplot(x=\"Time on App\", y=\"Yearly Amount Spent\", data=customers)"
   ]
  },
  {
   "cell_type": "markdown",
   "metadata": {},
   "source": [
    "** 4. Use jointplot to create a 2D hex bin plot comparing Time on App and Length of Membership.**\n",
    "5pts\n",
    "\n",
    "keyword: seaborn, jointplot, kind='hex'"
   ]
  },
  {
   "cell_type": "code",
   "execution_count": 22,
   "metadata": {
    "scrolled": true
   },
   "outputs": [
    {
     "name": "stderr",
     "output_type": "stream",
     "text": [
      "/Users/chhquyen/anaconda3/lib/python3.7/site-packages/scipy/stats/stats.py:1713: FutureWarning: Using a non-tuple sequence for multidimensional indexing is deprecated; use `arr[tuple(seq)]` instead of `arr[seq]`. In the future this will be interpreted as an array index, `arr[np.array(seq)]`, which will result either in an error or a different result.\n",
      "  return np.add.reduce(sorted[indexer] * weights, axis=axis) / sumval\n"
     ]
    },
    {
     "data": {
      "text/plain": [
       "<seaborn.axisgrid.JointGrid at 0x10825b320>"
      ]
     },
     "execution_count": 22,
     "metadata": {},
     "output_type": "execute_result"
    },
    {
     "data": {
      "image/png": "[encoded data removed]",
      "text/plain": [
       "<Figure size 432x432 with 3 Axes>"
      ]
     },
     "metadata": {
      "needs_background": "light"
     },
     "output_type": "display_data"
    }
   ],
   "source": [
    "sns.jointplot(x=\"Time on App\", y=\"Length of Membership\", kind=\"hex\", data=customers, color='r')"
   ]
  },
  {
   "cell_type": "markdown",
   "metadata": {},
   "source": [
    "**5. Let's explore correlation across the entire data set. Use [heatmap](https://tryolabs.com/blog/2017/03/16/pandas-seaborn-a-guide-to-handle-visualize-data-elegantly/) to create the chart which represents correlation between each columns.(Don't worry about the the colors)**\n",
    "5pts"
   ]
  },
  {
   "cell_type": "code",
   "execution_count": 31,
   "metadata": {},
   "outputs": [
    {
     "data": {
      "text/plain": [
       "<matplotlib.axes._subplots.AxesSubplot at 0x1a1cbe6c88>"
      ]
     },
     "execution_count": 31,
     "metadata": {},
     "output_type": "execute_result"
    },
    {
     "data": {
      "image/png": "[encoded data removed]",
      "text/plain": [
       "<Figure size 432x288 with 2 Axes>"
      ]
     },
     "metadata": {
      "needs_background": "light"
     },
     "output_type": "display_data"
    }
   ],
   "source": [
    "# Optional\n",
    "# Hint: pandas.corr(), sns.heatmap\n",
    "\n",
    "correlation=customers.corr()\n",
    "\n",
    "sns.heatmap(correlation)"
   ]
  },
  {
   "cell_type": "markdown",
   "metadata": {},
   "source": [
    "**6. Based off this plot what looks to be the most correlated feature with Yearly Amount Spent?**\n",
    "5pts"
   ]
  },
  {
   "cell_type": "code",
   "execution_count": 12,
   "metadata": {},
   "outputs": [],
   "source": [
    "#Length of Membership"
   ]
  },
  {
   "cell_type": "markdown",
   "metadata": {},
   "source": [
    "**7. Create a linear model plot (using seaborn's lmplot) of  Yearly Amount Spent vs. Length of Membership. **\n",
    "5pts"
   ]
  },
  {
   "cell_type": "code",
   "execution_count": 37,
   "metadata": {},
   "outputs": [
    {
     "name": "stderr",
     "output_type": "stream",
     "text": [
      "/Users/chhquyen/anaconda3/lib/python3.7/site-packages/scipy/stats/stats.py:1713: FutureWarning: Using a non-tuple sequence for multidimensional indexing is deprecated; use `arr[tuple(seq)]` instead of `arr[seq]`. In the future this will be interpreted as an array index, `arr[np.array(seq)]`, which will result either in an error or a different result.\n",
      "  return np.add.reduce(sorted[indexer] * weights, axis=axis) / sumval\n"
     ]
    },
    {
     "data": {
      "text/plain": [
       "<seaborn.axisgrid.FacetGrid at 0x1a1cada0f0>"
      ]
     },
     "execution_count": 37,
     "metadata": {},
     "output_type": "execute_result"
    },
    {
     "data": {
      "image/png": "[encoded data removed]",
      "text/plain": [
       "<Figure size 360x360 with 1 Axes>"
      ]
     },
     "metadata": {
      "needs_background": "light"
     },
     "output_type": "display_data"
    }
   ],
   "source": [
    "sns.lmplot(x=\"Length of Membership\", y=\"Yearly Amount Spent\", data=customers)"
   ]
  },
  {
   "cell_type": "markdown",
   "metadata": {},
   "source": [
    "## Training and Testing Data\n",
    "\n",
    "**8.** Now that we've explored the data a bit, let's go ahead and split the data into training and testing sets.\n",
    "** Set a variable X equal to the numerical features of the customers and a variable y equal to the \"Yearly Amount Spent\" column. **\n",
    "5pts"
   ]
  },
  {
   "cell_type": "code",
   "execution_count": 117,
   "metadata": {},
   "outputs": [],
   "source": [
    "X = customers[['Length of Membership']]"
   ]
  },
  {
   "cell_type": "code",
   "execution_count": 118,
   "metadata": {},
   "outputs": [],
   "source": [
    "y = customers['Yearly Amount Spent']"
   ]
  },
  {
   "cell_type": "markdown",
   "metadata": {},
   "source": [
    "**9.** Use model_selection.train_test_split from sklearn to split the data into training and testing sets. Set test_size=0.3 and random_state=101** 5pts"
   ]
  },
  {
   "cell_type": "code",
   "execution_count": 113,
   "metadata": {},
   "outputs": [
    {
     "data": {
      "text/plain": [
       "[                                     Email  \\\n",
       " 202  michellejohnson@sanders-rodriguez.com   \n",
       " 428                    kevin45@mathews.net   \n",
       " 392                       dwhite@gmail.com   \n",
       " 86                       hyoung@jones.info   \n",
       " 443              jefferycampbell@gmail.com   \n",
       " 398         rogerstiffany@wilson-horne.com   \n",
       " 449         rskinner@johnson-jefferson.com   \n",
       " 321               drew27@ryan-thompson.com   \n",
       " 109                    bakerdrew@gmail.com   \n",
       " 93                     larrywest@davis.com   \n",
       " 295                  thomaswendy@yahoo.com   \n",
       " 441         montgomerycheyenne@hotmail.com   \n",
       " 286                 bhill@pierce-kane.info   \n",
       " 121                 ngarcia@donaldson.info   \n",
       " 9                         bonnie69@lin.biz   \n",
       " 176                 clifford76@johnson.com   \n",
       " 195                     mary84@edwards.com   \n",
       " 432                katherinegray@yahoo.com   \n",
       " 458                     xkaufman@gmail.com   \n",
       " 278                    kenneth27@smith.com   \n",
       " 348                       qmorse@yahoo.com   \n",
       " 16                     wjennings@gmail.com   \n",
       " 183                   jlawson@mccarthy.com   \n",
       " 426                 rwilliams@trujillo.biz   \n",
       " 41                   lisacabrera@yahoo.com   \n",
       " 427                 randall85@williams.com   \n",
       " 377                    sarahtran@dixon.com   \n",
       " 322                    suzanne63@gmail.com   \n",
       " 213               audreyguerrero@carey.com   \n",
       " 296     fuenteskathryn@schmidt-johnson.org   \n",
       " ..                                     ...   \n",
       " 59                john85@martin-morgan.com   \n",
       " 473                        rhaas@yahoo.com   \n",
       " 413      elizabethnunez@vasquez-nelson.net   \n",
       " 371             kaylahenderson@hotmail.com   \n",
       " 136                  dawnlewis@watkins.org   \n",
       " 111                       tknapp@yahoo.com   \n",
       " 339                    tina16@santiago.com   \n",
       " 49            kimberly46@garcia-nelson.biz   \n",
       " 490                    brian28@sanchez.org   \n",
       " 477                    ncummings@yahoo.com   \n",
       " 396                  waltonkaren@gmail.com   \n",
       " 5                   alvareznancy@lucas.biz   \n",
       " 110                connorlambert@yahoo.com   \n",
       " 192                      ethomas@yahoo.com   \n",
       " 220             madisonalexander@gmail.com   \n",
       " 316                    arice@reynolds.info   \n",
       " 245                      clester@yahoo.com   \n",
       " 424                  bwilliams@hotmail.com   \n",
       " 495           lewisjessica@craig-evans.com   \n",
       " 132                    krista86@norton.net   \n",
       " 40                     rhonda96@little.org   \n",
       " 461                arnoldsamuel@wilson.com   \n",
       " 393                vancemichelle@gmail.com   \n",
       " 75                 langmatthew@hotmail.com   \n",
       " 87                      erik46@hotmail.com   \n",
       " 63                        chris67@ryan.biz   \n",
       " 326                     ievans@hotmail.com   \n",
       " 337    theresamitchell@martin-chambers.biz   \n",
       " 11                  ryanwerner@freeman.biz   \n",
       " 351                      tluna@hotmail.com   \n",
       " \n",
       "                                                Address             Avatar  \\\n",
       " 202  70562 Gonzalez Stravenue\\nElizabethland, WI 40...               Teal   \n",
       " 428   02393 Baker Falls\\nNew Georgeport, ND 36338-5110         DodgerBlue   \n",
       " 392    02136 White Grove Suite 418\\nMarytown, DE 70033          OrangeRed   \n",
       " 86    73469 Baker Forest Apt. 550\\nAllenbury, TX 63791           Cornsilk   \n",
       " 443  381 Ashley Locks Suite 366\\nNorth Migueltown, ...        GreenYellow   \n",
       " 398      30700 Justin Ports\\nPort David, PA 52171-5921     DarkOliveGreen   \n",
       " 449            24725 Neal Lock\\nCynthiaville, NY 51578          OliveDrab   \n",
       " 321  4475 Lopez Stravenue Apt. 690\\nSmithchester, N...          PeachPuff   \n",
       " 109  39637 Griffin Plain Suite 691\\nNew Deborahview...         Chartreuse   \n",
       " 93        21918 Gail Glens\\nBarbershire, SD 45790-8387       MidnightBlue   \n",
       " 295           449 Amanda Tunnel\\nJoshuahaven, CO 15377      LavenderBlush   \n",
       " 441  1812 Sandra Shoal Apt. 350\\nAmandamouth, SC 87...          FireBrick   \n",
       " 286  3324 Branch Squares Suite 221\\nRiddleton, OK 3...          RoyalBlue   \n",
       " 121  662 Wells Stravenue Apt. 578\\nSouth Kristaview...        ForestGreen   \n",
       " 9                PSC 2734, Box 5255\\nAPO AA 98456-7482              Brown   \n",
       " 176  8032 Hodge Circle Apt. 255\\nLake Jessicashire,...          RosyBrown   \n",
       " 195    19123 Craig Isle Apt. 719\\nMillsmouth, SC 94194       LightSkyBlue   \n",
       " 432  685 Sexton Ranch Suite 125\\nLake Robertshire, ...               Cyan   \n",
       " 458        02342 Melissa Islands\\nSmithhaven, KS 68335         DarkViolet   \n",
       " 278  721 Robert Viaduct Apt. 052\\nLake Olivia, MO 9...          DarkGreen   \n",
       " 348  0360 Pearson Dam Suite 263\\nLake Shawn, UT 659...    MediumTurquoise   \n",
       " 16         6362 Wilson Mountain\\nJohnsonfurt, GA 15169         PowderBlue   \n",
       " 183  0127 Morgan Fields Apt. 080\\nThompsonfurt, ME ...          LightGray   \n",
       " 426  54560 Thompson Creek Apt. 029\\nNew Brianville,...     BlanchedAlmond   \n",
       " 41   9801 Thomas Pike Suite 058\\nBrandishire, AK 88...      DarkSlateBlue   \n",
       " 427  5086 Morales Islands Apt. 099\\nNew Patricia, I...              Black   \n",
       " 377      770 Katie Walk Apt. 585\\nPort David, MN 52850          GoldenRod   \n",
       " 322            229 Eric Mountains\\nNew Caleb, PA 00396        LightSalmon   \n",
       " 213  1995 Susan Locks Suite 760\\nEast Cheryl, AR 37...         BlueViolet   \n",
       " 296           839 Heather Cliff\\nSouth Blake, SC 90412               Cyan   \n",
       " ..                                                 ...                ...   \n",
       " 59                       USNV Reese\\nFPO AA 73568-0730              Olive   \n",
       " 473  4502 Jennifer Prairie Suite 029\\nLake Jesse, L...            DimGray   \n",
       " 413       209 Andrew Viaduct\\nPort Anna, OR 01627-8037           Cornsilk   \n",
       " 371                   Unit 1609 Box 3480\\nDPO AA 95185  MediumSpringGreen   \n",
       " 136          623 Erica Flat\\nLake Josephland, MT 73514            Crimson   \n",
       " 111             15810 Karl Plain\\nDavidville, TX 64072  MediumSpringGreen   \n",
       " 339              314 Kidd Run\\nJohnfort, KS 46546-2732              White   \n",
       " 49   4066 Gonzalez Dam Apt. 277\\nWest Jessica, TN 3...        GreenYellow   \n",
       " 490    7446 Mary Ferry\\nLake Sherryfurt, GA 49066-0207         GhostWhite   \n",
       " 477    344 Jessica Stravenue\\nNew Brian, MA 04730-6761              Beige   \n",
       " 396  355 Villegas Isle Apt. 070\\nWest Jenniferview,...              Green   \n",
       " 5    645 Martha Park Apt. 611\\nJeffreychester, MN 6...        FloralWhite   \n",
       " 110       931 Andrews Heights\\nSouth Shelley, NV 21850              Khaki   \n",
       " 192  1279 Douglas Mountains\\nPort Christopherberg, ...         LightGreen   \n",
       " 220  791 Allen Trafficway Suite 776\\nChristopherlan...             Orange   \n",
       " 316     740 Marshall Squares\\nDavidbury, AL 94251-0846            Thistle   \n",
       " 245       76778 Underwood Knoll\\nNew Gregory, ID 57323          LightCyan   \n",
       " 424  1549 Walker Passage Apt. 463\\nWest Calvin, AZ ...      PaleVioletRed   \n",
       " 495  4483 Jones Motorway Suite 872\\nLake Jamiefurt,...                Tan   \n",
       " 132   0537 Rice Village\\nWest Kylieberg, NJ 19433-5090              Azure   \n",
       " 40            2977 Perez Row\\nLake Jack, TN 45336-9436         GhostWhite   \n",
       " 461     949 Tapia Viaduct\\nMartinezfurt, CT 79271-8205       LightSkyBlue   \n",
       " 393  6586 Reginald Crest Apt. 061\\nNorth Josephfort...           DeepPink   \n",
       " 75           606 Perez Drives\\nMaryside, CO 94387-5877            DimGray   \n",
       " 87   20711 Martin Harbors Apt. 582\\nNew Justinborou...       LemonChiffon   \n",
       " 63   716 Bush Greens Apt. 098\\nTrevorton, MA 17817-...             Silver   \n",
       " 326       2064 Poole Groves\\nNorth Chrisland, SC 78169        NavajoWhite   \n",
       " 337          157 Linda Roads\\nNew Jimmyshire, MH 51942              Khaki   \n",
       " 11               Unit 2413 Box 0347\\nDPO AA 07580-2652             Tomato   \n",
       " 351         01512 Hendricks Rue\\nEast Pamela, PR 46481        YellowGreen   \n",
       " \n",
       "      Avg. Session Length  Time on App  Time on Website  Length of Membership  \\\n",
       " 202            31.525752    11.340036        37.039514              3.811248   \n",
       " 428            31.862741    14.039867        37.022269              3.738225   \n",
       " 392            33.258238    11.514949        37.128039              4.662845   \n",
       " 86             33.877779    12.517666        37.151921              2.669942   \n",
       " 443            33.025020    12.504220        37.645839              4.051382   \n",
       " 398            34.140393    11.568527        38.918749              4.082855   \n",
       " 449            32.675155    12.594194        37.683875              2.571778   \n",
       " 321            33.674027    12.968893        37.333107              3.229451   \n",
       " 109            33.356874    13.452129        38.503009              3.318822   \n",
       " 93             33.710653    13.664748        37.724386              1.362674   \n",
       " 295            31.309193    11.947175        36.190833              3.205530   \n",
       " 441            32.536775    11.121366        36.979372              4.129255   \n",
       " 286            33.708153    14.325655        35.721827              3.634340   \n",
       " 121            33.701605    11.564022        37.673210              4.716105   \n",
       " 9              31.936549    11.814128        37.145168              3.202806   \n",
       " 176            32.332637    11.548761        38.576516              4.773503   \n",
       " 195            31.820998    10.771074        37.278640              3.519032   \n",
       " 432            31.123974    12.386516        35.632112              4.288487   \n",
       " 458            35.371876    10.572467        36.862183              4.198349   \n",
       " 278            32.607903    13.677246        37.744700              2.871948   \n",
       " 348            31.812483    10.886921        34.897828              3.128639   \n",
       " 16             32.125387    11.733862        34.894093              3.136133   \n",
       " 183            33.122400    11.509048        37.253058              3.182330   \n",
       " 426            31.425227    13.271475        37.239847              4.022103   \n",
       " 41             33.019548    10.634561        37.496690              4.646120   \n",
       " 427            33.625307    12.988221        39.672591              3.969418   \n",
       " 377            35.037450    11.935935        35.783924              3.310150   \n",
       " 322            33.264632    10.732131        36.145792              4.086566   \n",
       " 213            34.330750    13.722454        35.773116              2.909008   \n",
       " 296            33.612563    11.470565        37.061689              3.802511   \n",
       " ..                   ...          ...              ...                   ...   \n",
       " 59             33.754995    12.064157        37.271222              3.970556   \n",
       " 473            31.609840    12.710701        36.166463              2.562819   \n",
       " 413            32.592093    10.314718        36.729029              4.791109   \n",
       " 371            32.404295    11.608998        38.110457              2.966559   \n",
       " 136            32.686129    12.215252        36.594362              3.897116   \n",
       " 111            32.012301    12.178331        37.715986              3.722561   \n",
       " 339            32.997459    12.589241        37.332241              2.804014   \n",
       " 49             31.661050    11.398064        36.594457              3.198399   \n",
       " 490            34.695591    11.608997        37.684877              3.163092   \n",
       " 477            31.061325    12.357638        36.166042              4.089331   \n",
       " 396            35.742670    10.889828        35.565436              6.115199   \n",
       " 5              33.871038    12.026925        34.476878              5.493507   \n",
       " 110            31.853075    12.149375        37.325334              3.361815   \n",
       " 192            33.694898    11.202670        35.493964              4.015987   \n",
       " 220            34.117567    11.591872        37.743620              3.678589   \n",
       " 316            33.566474    12.235659        37.277573              2.532044   \n",
       " 245            32.980029    11.201160        37.689337              2.412831   \n",
       " 424            34.370327    11.887800        37.861447              3.046620   \n",
       " 495            33.237660    13.566160        36.417985              3.746573   \n",
       " 132            34.312167    11.810587        37.414134              2.473596   \n",
       " 40             32.070546    11.733106        37.534291              4.671275   \n",
       " 461            32.770492    11.371767        35.261498              4.034386   \n",
       " 393            32.319858    12.418113        36.155336              3.222081   \n",
       " 75             32.049839    12.238057        38.730862              3.120569   \n",
       " 87             34.447871    10.607724        36.819096              3.366464   \n",
       " 63             32.789773    11.670066        37.408748              3.414688   \n",
       " 326            33.217188    10.999684        38.442767              4.243813   \n",
       " 337            31.827979    12.461147        37.428997              2.974737   \n",
       " 11             33.879361    11.584783        37.087926              3.713209   \n",
       " 351            32.189845    11.386776        38.197483              4.808320   \n",
       " \n",
       "      Yearly Amount Spent  \n",
       " 202           443.965627  \n",
       " 428           556.298141  \n",
       " 392           549.131573  \n",
       " 86            487.379306  \n",
       " 443           561.516532  \n",
       " 398           537.825282  \n",
       " 449           444.582165  \n",
       " 321           542.412477  \n",
       " 109           549.008227  \n",
       " 93            439.074767  \n",
       " 295           432.720718  \n",
       " 441           510.539422  \n",
       " 286           626.018673  \n",
       " 121           576.802547  \n",
       " 9             427.199385  \n",
       " 176           532.717486  \n",
       " 195           424.675281  \n",
       " 432           486.947054  \n",
       " 458           537.915753  \n",
       " 278           530.362469  \n",
       " 348           392.810345  \n",
       " 16            457.847696  \n",
       " 183           452.122625  \n",
       " 426           530.766719  \n",
       " 41            501.874430  \n",
       " 427           581.798798  \n",
       " 377           538.941975  \n",
       " 322           478.262126  \n",
       " 213           558.427257  \n",
       " 296           506.423860  \n",
       " ..                   ...  \n",
       " 59            547.365141  \n",
       " 473           444.545550  \n",
       " 413           493.181261  \n",
       " 371           447.369027  \n",
       " 136           529.230090  \n",
       " 111           492.945053  \n",
       " 339           476.139247  \n",
       " 49            416.358354  \n",
       " 490           510.401388  \n",
       " 477           487.555458  \n",
       " 396           669.987141  \n",
       " 5             637.102448  \n",
       " 110           459.285123  \n",
       " 192           505.119638  \n",
       " 220           519.372977  \n",
       " 316           466.421199  \n",
       " 245           409.070472  \n",
       " 424           491.911505  \n",
       " 495           573.847438  \n",
       " 132           452.627255  \n",
       " 40            532.751788  \n",
       " 461           502.771075  \n",
       " 393           482.830986  \n",
       " 75            478.719357  \n",
       " 87            473.728967  \n",
       " 63            483.159721  \n",
       " 326           505.230068  \n",
       " 337           440.002748  \n",
       " 11            522.337405  \n",
       " 351           533.396554  \n",
       " \n",
       " [350 rows x 8 columns],                                       Email  \\\n",
       " 18                  alejandro75@hotmail.com   \n",
       " 361                lauriewilson@jackson.com   \n",
       " 104                   jenniferking@hess.net   \n",
       " 4             mstephens@davidson-herman.com   \n",
       " 156                         fsnow@ellis.com   \n",
       " 350                       qeaton@savage.com   \n",
       " 32            briancarlson@page-fleming.com   \n",
       " 205         jeffrey54@mcdonald-williams.com   \n",
       " 81                  fishermichael@ramos.com   \n",
       " 414                 ramirezjacob@turner.com   \n",
       " 489                     tracy79@wheeler.net   \n",
       " 474               antonioharris@hotmail.com   \n",
       " 95                 middletonrenee@gmail.com   \n",
       " 355               beasleyjoseph@hotmail.com   \n",
       " 65                           kyang@diaz.org   \n",
       " 39              teresaallen@hill-leach.info   \n",
       " 368                      rhonda01@gmail.com   \n",
       " 236            alexandermichael@hotmail.com   \n",
       " 318            charlesgutierrez@hotmail.com   \n",
       " 435        sanchezamber@scott-patterson.com   \n",
       " 12                        knelson@gmail.com   \n",
       " 211                      karina59@gmail.com   \n",
       " 289         jamesfaulkner@hoffman-wolfe.org   \n",
       " 243                     hallthomas@lane.com   \n",
       " 241                  karenosborne@yahoo.com   \n",
       " 382                blakekent@smith-pena.com   \n",
       " 457                 dylanmartin@hotmail.com   \n",
       " 320              wheelernancy@hernandez.com   \n",
       " 64                        katie25@gmail.com   \n",
       " 335         anneingram@miller-alexander.com   \n",
       " ..                                      ...   \n",
       " 143                     kaitlyn78@chang.com   \n",
       " 271             beckycarson@jones-brown.biz   \n",
       " 56                gregoryholmes@hotmail.com   \n",
       " 475                  austinthomas@gmail.com   \n",
       " 272                  jennifer24@hotmail.com   \n",
       " 433             efoster@williamson-boyd.org   \n",
       " 154                    nathan86@hotmail.com   \n",
       " 200           jessica04@christian-riley.com   \n",
       " 53                         wbrady@yahoo.com   \n",
       " 385                        thardy@perry.com   \n",
       " 312            douglasdunlap@boone-rose.com   \n",
       " 51          brenda82@maldonado-gonzalez.net   \n",
       " 468               philliproberson@yahoo.com   \n",
       " 345                robertramirez@kaiser.com   \n",
       " 233            patriciajackson@jenkins.info   \n",
       " 237               christopher66@hotmail.com   \n",
       " 317                        adam75@gmail.com   \n",
       " 450                     kiarakim@harris.org   \n",
       " 324                  laurajimenez@gmail.com   \n",
       " 170              daniellecuevas@hotmail.com   \n",
       " 266  christophermorrison@mcguire-carter.biz   \n",
       " 133                    chelsea05@hansen.com   \n",
       " 430                 hoganrichard@george.com   \n",
       " 15                      jstark@anderson.com   \n",
       " 13                    wrightpeter@yahoo.com   \n",
       " 147       micheleblanchard@lopez-greene.com   \n",
       " 346                      justin26@gmail.com   \n",
       " 423                      dana59@hotmail.com   \n",
       " 17                 rebecca45@hale-bauer.biz   \n",
       " 259                 amandastanley@yahoo.com   \n",
       " \n",
       "                                                Address            Avatar  \\\n",
       " 18   64475 Andre Club Apt. 795\\nPort Dannytown, PW ...              Cyan   \n",
       " 361  389 Joshua Stravenue Apt. 983\\nMartinezland, M...          Cornsilk   \n",
       " 104              06939 Jones Neck\\nMariaview, VT 87641        BlueViolet   \n",
       " 4    14023 Rodriguez Passage\\nPort Jacobville, PR 3...  MediumAquaMarine   \n",
       " 156         0272 Jones Way\\nLake Angela, MP 97003-5793        MediumBlue   \n",
       " 350        27032 Michelle Forest\\nMorrowtown, ND 14749       SaddleBrown   \n",
       " 32                            USCGC Gill\\nFPO AA 26496       DarkMagenta   \n",
       " 205   297 Francis Valley\\nSouth Lindsey, NY 13669-5367         Gainsboro   \n",
       " 81     565 Duarte Keys Suite 293\\nTraceytown, IN 17797         LimeGreen   \n",
       " 414      19704 Kaitlin Flat\\nWest Andrewtown, VI 38642           Magenta   \n",
       " 489  513 Moore Crescent Apt. 416\\nAmandaberg, GU 03...           Magenta   \n",
       " 474  4307 Nicholas Drive Apt. 259\\nRamirezberg, AS ...        MediumBlue   \n",
       " 95   71757 David Freeway Apt. 851\\nWest Carriefurt,...          DarkCyan   \n",
       " 355   1094 Bentley Forges\\nLake Antonio, MA 29181-3664       SaddleBrown   \n",
       " 65    223 Love Trail Suite 831\\nPort Jeffrey, IN 46849         OliveDrab   \n",
       " 39   1958 Robert Bridge Apt. 250\\nMalloryland, ID 0...        WhiteSmoke   \n",
       " 368          939 Watson Run\\nStaceyberg, VT 58376-0454            Orchid   \n",
       " 236               2086 Lisa View\\nOrtegabury, MI 43544        WhiteSmoke   \n",
       " 318       363 Kathleen Underpass\\nAshleyside, PR 98964         MistyRose   \n",
       " 435     257 Hunt Manors\\nSouth Charlottefort, CT 15033           Fuchsia   \n",
       " 12   6705 Miller Orchard Suite 186\\nLake Shanestad,...         RoyalBlue   \n",
       " 211  9580 Clark Trail Suite 687\\nWilliamsside, FM 5...        PapayaWhip   \n",
       " 289              Unit 0474 Box 0661\\nDPO AP 48938-3469              Blue   \n",
       " 243  22630 Bell Centers Suite 030\\nNorth Danielport...     DarkTurquoise   \n",
       " 241  81814 Pratt Squares Suite 460\\nNorth Robert, G...         SlateBlue   \n",
       " 382     3933 Brooke Point\\nJohnsonburgh, DE 22659-3488           Crimson   \n",
       " 457  42644 Helen Keys Apt. 103\\nJessicahaven, KS 89...      MidnightBlue   \n",
       " 320  66340 Michael Lane Suite 878\\nWest Brian, LA 6...              Gold   \n",
       " 64   6861 Lopez Fork Apt. 114\\nSouth Jamiechester, ...       SpringGreen   \n",
       " 335     4301 Park Lake Apt. 158\\nSpencertown, SD 45934          HoneyDew   \n",
       " ..                                                 ...               ...   \n",
       " 143               978 Bean Square\\nDeanburgh, OR 95149         LimeGreen   \n",
       " 271  78787 Mitchell Lights\\nMatthewville, AZ 30310-...              Gold   \n",
       " 56   2891 Martin Plain Suite 197\\nMelaniestad, NE 6...        DarkSalmon   \n",
       " 475     5855 Gross Burgs Suite 169\\nBallland, AS 98525      AntiqueWhite   \n",
       " 272       46954 Melissa Corner\\nNorth Amanda, LA 34844         SteelBlue   \n",
       " 433  4968 Bennett Manors\\nRogerschester, IL 81579-8333          Lavender   \n",
       " 154        748 Michael Plaza\\nWest Billyside, UT 20799      MidnightBlue   \n",
       " 200  338 Graham Loaf Suite 236\\nEast Toddton, FM 43...      LemonChiffon   \n",
       " 53   044 Riggs Expressway\\nLake Stevenchester, AL 2...        SandyBrown   \n",
       " 385   39209 Cooper Neck Apt. 541\\nTylermouth, ME 94450          SeaGreen   \n",
       " 312           093 Larson Ports\\nWest Kathryn, OK 91243            Purple   \n",
       " 51           645 Elizabeth Pass\\nWilliamview, MS 51544   MediumVioletRed   \n",
       " 468                   Unit 0373 Box 8981\\nDPO AA 89902             Beige   \n",
       " 345        1583 Anderson Coves\\nEast Rebecca, NH 27212            Purple   \n",
       " 233  981 Matthew Valley Apt. 621\\nLake Tracyburgh, ...           Thistle   \n",
       " 237        388 Kelly Pike\\nWest Jeffery, DE 44039-7785         BurlyWood   \n",
       " 317  9991 Macdonald Squares\\nVasquezborough, WY 735...            Purple   \n",
       " 450  1502 Gonzalez Throughway\\nKathrynchester, FM 8...             Linen   \n",
       " 324  06103 Erik Fields Suite 781\\nJonesmouth, GA 49...         SlateBlue   \n",
       " 170     9287 Daniel Rest Apt. 608\\nAllentown, SD 73050     LavenderBlush   \n",
       " 266              90089 Eric Well\\nNicoleside, MT 95918              Blue   \n",
       " 133  7182 Stephen Fork Suite 150\\nPort Laurachester...         LightGray   \n",
       " 430    4929 Michelle Grove\\nLake Alexis, MT 92147-1660    BlanchedAlmond   \n",
       " 15   49558 Ramirez Road Suite 399\\nPhillipstad, OH ...              Peru   \n",
       " 13    05302 Dunlap Ferry\\nNew Stephaniehaven, MP 42268            Bisque   \n",
       " 147   555 Hunt Track Suite 307\\nSouth Kristi, PA 73709         SlateGray   \n",
       " 346  32303 Baldwin Causeway\\nSouth Robertside, HI 5...         RosyBrown   \n",
       " 423       31927 Jill Mountain\\nSouth Jessica, MN 63418              Blue   \n",
       " 17                8982 Burton Row\\nWilsonton, PW 88606         OliveDrab   \n",
       " 259  38528 Jerry Valleys Suite 027\\nJonesstad, NY 7...         CadetBlue   \n",
       " \n",
       "      Avg. Session Length  Time on App  Time on Website  Length of Membership  \\\n",
       " 18             32.187812    14.715388        38.244115              1.516576   \n",
       " 361            32.077590    10.347877        39.045156              3.434560   \n",
       " 104            31.389585    10.994224        38.074452              3.428860   \n",
       " 4              33.330673    12.795189        37.536653              4.446308   \n",
       " 156            32.294642    12.443048        37.327848              5.084861   \n",
       " 350            33.304337    12.692661        37.333591              3.827376   \n",
       " 32             32.175501    13.387492        35.694175              4.343063   \n",
       " 205            34.967610    13.919494        37.952013              5.066697   \n",
       " 81             34.594021    10.947259        35.883994              3.159754   \n",
       " 414            32.381035    12.433129        37.626907              4.334001   \n",
       " 489            32.246350    11.305551        37.133127              1.707390   \n",
       " 474            33.700886    13.471578        37.071643              2.379076   \n",
       " 95             32.461212    13.291143        38.633626              3.871003   \n",
       " 355            33.344509    10.969803        35.974578              2.627625   \n",
       " 65             34.374258    15.126994        37.157624              5.377594   \n",
       " 39             32.567230    12.489013        36.371480              4.222436   \n",
       " 368            34.385820    12.729720        36.232110              5.705941   \n",
       " 236            32.693240    12.600750        37.370118              3.467014   \n",
       " 318            33.531860    13.665770        36.900221              3.515688   \n",
       " 435            32.259973    14.132893        37.023479              3.762070   \n",
       " 12             29.532429    10.961298        37.420216              4.046423   \n",
       " 211            34.081646    12.104542        36.059646              3.974522   \n",
       " 289            34.394327    12.807752        38.551030              1.810080   \n",
       " 243            32.454553    11.822983        36.946126              3.656984   \n",
       " 241            32.686245    12.638572        36.097221              4.297737   \n",
       " 382            33.587373     9.953995        37.345739              3.215667   \n",
       " 457            33.119954    12.953263        37.034280              3.472021   \n",
       " 320            32.495419    12.968326        38.296110              1.200484   \n",
       " 64             32.772610    13.276313        36.600777              3.462299   \n",
       " 335            32.133862    11.612651        39.248804              3.349245   \n",
       " ..                   ...          ...              ...                   ...   \n",
       " 143            32.115119    11.919242        39.294043              1.443515   \n",
       " 271            33.540479    12.884125        36.226042              5.007272   \n",
       " 56             32.688229    13.761533        39.252931              2.995761   \n",
       " 475            33.811733    11.186809        36.298893              4.301996   \n",
       " 272            34.436426    13.325469        36.768603              3.371258   \n",
       " 433            34.278248    11.822722        36.308545              2.117383   \n",
       " 154            36.139662    12.050267        36.959643              3.864861   \n",
       " 200            34.878495    13.067896        36.678222              1.920715   \n",
       " 53             33.762069     9.984514        35.933449              3.855472   \n",
       " 385            33.236266    10.972554        34.574028              2.931620   \n",
       " 312            30.393185    11.802986        36.315763              2.083814   \n",
       " 51             33.900224    10.956791        37.266878              2.952669   \n",
       " 468            34.200539    12.667809        37.487049              3.701622   \n",
       " 345            33.894640    10.610537        37.977389              3.537124   \n",
       " 233            32.004753    11.395209        37.332814              3.803365   \n",
       " 237            31.625360    13.187911        37.067090              1.494311   \n",
       " 317            32.848793    10.973162        36.609507              2.870987   \n",
       " 450            32.998388    10.946842        37.647808              3.826031   \n",
       " 324            33.479472    12.608889        37.229395              4.205904   \n",
       " 170            33.428747    10.636761        37.578835              2.926396   \n",
       " 266            34.555283    11.777772        37.979827              3.784273   \n",
       " 133            32.455176    12.759169        36.599112              4.131277   \n",
       " 430            33.749228    11.137140        38.401374              4.595523   \n",
       " 15             30.737720    12.636606        36.213763              3.357847   \n",
       " 13             33.190334    12.959226        36.144667              3.918542   \n",
       " 147            32.255901    10.480507        37.338670              4.514122   \n",
       " 346            32.765665    12.506548        35.823467              3.126509   \n",
       " 423            33.128693    10.398458        36.683393              3.859818   \n",
       " 17             32.338899    12.013195        38.385137              2.420806   \n",
       " 259            32.096109    10.804891        37.372762              2.699562   \n",
       " \n",
       "      Yearly Amount Spent  \n",
       " 18            452.315675  \n",
       " 361           401.033135  \n",
       " 104           410.069611  \n",
       " 4             599.406092  \n",
       " 156           586.155870  \n",
       " 350           535.480775  \n",
       " 32            588.712606  \n",
       " 205           712.396327  \n",
       " 81            462.897636  \n",
       " 414           532.724805  \n",
       " 489           327.377953  \n",
       " 474           492.556834  \n",
       " 95            543.340166  \n",
       " 355           403.766902  \n",
       " 65            765.518462  \n",
       " 39            537.846195  \n",
       " 368           708.935185  \n",
       " 236           501.928265  \n",
       " 318           564.790969  \n",
       " 435           571.216005  \n",
       " 12            408.640351  \n",
       " 211           548.518529  \n",
       " 289           467.427849  \n",
       " 243           490.600443  \n",
       " 241           571.471034  \n",
       " 382           410.602944  \n",
       " 457           534.771485  \n",
       " 320           368.654785  \n",
       " 64            540.263400  \n",
       " 335           443.441860  \n",
       " ..                   ...  \n",
       " 143           350.058200  \n",
       " 271           628.047804  \n",
       " 56            520.898794  \n",
       " 475           535.321610  \n",
       " 272           582.491924  \n",
       " 433           434.144202  \n",
       " 154           595.803819  \n",
       " 200           504.870432  \n",
       " 53            451.457447  \n",
       " 385           414.935061  \n",
       " 312           319.928870  \n",
       " 51            442.667252  \n",
       " 468           553.994674  \n",
       " 345           461.790959  \n",
       " 233           463.745981  \n",
       " 237           376.336901  \n",
       " 317           404.824529  \n",
       " 450           475.015407  \n",
       " 324           559.199048  \n",
       " 170           421.966794  \n",
       " 266           554.003093  \n",
       " 133           542.711558  \n",
       " 430           556.186369  \n",
       " 15            461.780742  \n",
       " 13            573.415867  \n",
       " 147           479.731938  \n",
       " 346           488.387526  \n",
       " 423           461.112248  \n",
       " 17            407.704548  \n",
       " 259           375.398455  \n",
       " \n",
       " [150 rows x 8 columns]]"
      ]
     },
     "execution_count": 113,
     "metadata": {},
     "output_type": "execute_result"
    }
   ],
   "source": [
    "sk.model_selection.train_test_split(customers, test_size=0.3, random_state=101)"
   ]
  },
  {
   "cell_type": "code",
   "execution_count": null,
   "metadata": {},
   "outputs": [],
   "source": []
  },
  {
   "cell_type": "code",
   "execution_count": null,
   "metadata": {},
   "outputs": [],
   "source": []
  },
  {
   "cell_type": "code",
   "execution_count": 18,
   "metadata": {},
   "outputs": [],
   "source": []
  },
  {
   "cell_type": "markdown",
   "metadata": {},
   "source": [
    "## Training the Model\n",
    "\n",
    "Now its time to train our model on our training data!\n",
    "\n",
    "**10. Import LinearRegression from sklearn.linear_model **\n",
    "5pts"
   ]
  },
  {
   "cell_type": "code",
   "execution_count": 98,
   "metadata": {},
   "outputs": [],
   "source": [
    "from sklearn.linear_model import LinearRegression"
   ]
  },
  {
   "cell_type": "markdown",
   "metadata": {},
   "source": [
    "**11. Create an instance of a LinearRegression() model named lm.**\n",
    "5pts"
   ]
  },
  {
   "cell_type": "code",
   "execution_count": 83,
   "metadata": {},
   "outputs": [],
   "source": [
    "lm = LinearRegression()"
   ]
  },
  {
   "cell_type": "markdown",
   "metadata": {},
   "source": [
    "**12. Train/fit lm on the training data.**\n",
    "5pts"
   ]
  },
  {
   "cell_type": "code",
   "execution_count": 84,
   "metadata": {},
   "outputs": [
    {
     "data": {
      "text/plain": [
       "LinearRegression(copy_X=True, fit_intercept=True, n_jobs=1, normalize=False)"
      ]
     },
     "execution_count": 84,
     "metadata": {},
     "output_type": "execute_result"
    }
   ],
   "source": [
    "lm.fit(x_train, y_train)"
   ]
  },
  {
   "cell_type": "markdown",
   "metadata": {},
   "source": [
    "**13. Print out the coefficients of the model**\n",
    "5pts"
   ]
  },
  {
   "cell_type": "code",
   "execution_count": 99,
   "metadata": {},
   "outputs": [
    {
     "name": "stdout",
     "output_type": "stream",
     "text": [
      "[37.07837604  0.6617679  63.91409778]\n"
     ]
    }
   ],
   "source": [
    "# Hint: coef_\n",
    "\n",
    "print(lm.coef_)"
   ]
  },
  {
   "cell_type": "markdown",
   "metadata": {},
   "source": [
    "## Predicting Test Data\n",
    "Now that we have fit our model, let's evaluate its performance by predicting off the test values!\n",
    "\n",
    "**14. Use lm.predict() to predict off the X_test set of the data.**\n",
    "5pts"
   ]
  },
  {
   "cell_type": "code",
   "execution_count": 100,
   "metadata": {},
   "outputs": [],
   "source": [
    "X_test_predict = lm.predict(x_test)"
   ]
  },
  {
   "cell_type": "markdown",
   "metadata": {},
   "source": [
    "**15. Create a scatterplot of the real test values versus the predicted values. **\n",
    "5pts"
   ]
  },
  {
   "cell_type": "code",
   "execution_count": null,
   "metadata": {},
   "outputs": [],
   "source": []
  },
  {
   "cell_type": "code",
   "execution_count": null,
   "metadata": {},
   "outputs": [],
   "source": []
  },
  {
   "cell_type": "markdown",
   "metadata": {},
   "source": [
    "## Evaluating the Model\n",
    "\n",
    "Let's evaluate our model performance by calculating the residual sum of squares.\n",
    "\n",
    "**16. Calculate: Calculate the Mean Absolute Error, Mean Squared Error, and the Root Mean Squared Error**\n",
    "10pts\n",
    "\n",
    "Note: Refer to those links for the formulas\n",
    "\n",
    "[Mean Absolute Error(MAE)](https://en.wikipedia.org/wiki/Mean_absolute_error)\n",
    "\n",
    "[Mean Squared Error(MSE)](https://en.wikipedia.org/wiki/Mean_squared_error)\n",
    "\n",
    "[Root Mean Squared Error(RMSE)]()\n",
    "\n",
    "Reference\n",
    "\n",
    "[MAE and RMSE](https://medium.com/human-in-a-machine-world/mae-and-rmse-which-metric-is-better-e60ac3bde13d)"
   ]
  },
  {
   "cell_type": "code",
   "execution_count": 106,
   "metadata": {},
   "outputs": [
    {
     "ename": "NameError",
     "evalue": "name 'y_true' is not defined",
     "output_type": "error",
     "traceback": [
      "\u001b[0;31m---------------------------------------------------------------------------\u001b[0m",
      "\u001b[0;31mNameError\u001b[0m                                 Traceback (most recent call last)",
      "\u001b[0;32m<ipython-input-106-c0df8978f340>\u001b[0m in \u001b[0;36m<module>\u001b[0;34m()\u001b[0m\n\u001b[1;32m      6\u001b[0m \u001b[0;32mfrom\u001b[0m \u001b[0mmath\u001b[0m \u001b[0;32mimport\u001b[0m \u001b[0msqrt\u001b[0m\u001b[0;34m\u001b[0m\u001b[0m\n\u001b[1;32m      7\u001b[0m \u001b[0;34m\u001b[0m\u001b[0m\n\u001b[0;32m----> 8\u001b[0;31m \u001b[0msk\u001b[0m\u001b[0;34m.\u001b[0m\u001b[0mmetrics\u001b[0m\u001b[0;34m.\u001b[0m\u001b[0mmean_absolute_error\u001b[0m\u001b[0;34m(\u001b[0m\u001b[0my_true\u001b[0m\u001b[0;34m,\u001b[0m \u001b[0my_pred\u001b[0m\u001b[0;34m,\u001b[0m \u001b[0msample_weight\u001b[0m\u001b[0;34m=\u001b[0m\u001b[0;32mNone\u001b[0m\u001b[0;34m)\u001b[0m\u001b[0;34m\u001b[0m\u001b[0m\n\u001b[0m",
      "\u001b[0;31mNameError\u001b[0m: name 'y_true' is not defined"
     ]
    }
   ],
   "source": [
    "#MAE: 7.228148653430838\n",
    "#MSE: 79.81305165097461\n",
    "#RMSE: 8.933815066978642\n",
    "from sklearn.metrics import mean_absolute_error\n",
    "from sklearn.metrics import mean_squared_error\n",
    "from math import sqrt\n",
    "\n",
    "sk.metrics.mean_absolute_error(y_true, y_pred, sample_weight=None)\n"
   ]
  },
  {
   "cell_type": "markdown",
   "metadata": {},
   "source": [
    "## Residuals\n",
    "\n",
    "You should have gotten a very good model with a good fit. Let's quickly explore the residuals to make sure everything was okay with our data. \n",
    "\n",
    "**17. Plot a histogram of the residuals and make sure it looks normally distributed. Use either seaborn distplot, or just plt.hist().**\n",
    "10pts"
   ]
  },
  {
   "cell_type": "code",
   "execution_count": 110,
   "metadata": {},
   "outputs": [
    {
     "ename": "TypeError",
     "evalue": "cannot perform reduce with flexible type",
     "output_type": "error",
     "traceback": [
      "\u001b[0;31m---------------------------------------------------------------------------\u001b[0m",
      "\u001b[0;31mTypeError\u001b[0m                                 Traceback (most recent call last)",
      "\u001b[0;32m<ipython-input-110-4e021f4e2deb>\u001b[0m in \u001b[0;36m<module>\u001b[0;34m()\u001b[0m\n\u001b[1;32m      1\u001b[0m \u001b[0;31m#plt.hist('Yearly Amount Spent')\u001b[0m\u001b[0;34m\u001b[0m\u001b[0;34m\u001b[0m\u001b[0m\n\u001b[0;32m----> 2\u001b[0;31m \u001b[0msns\u001b[0m\u001b[0;34m.\u001b[0m\u001b[0mdistplot\u001b[0m\u001b[0;34m(\u001b[0m\u001b[0;34m\"Yearly Amount Spent\"\u001b[0m\u001b[0;34m)\u001b[0m\u001b[0;34m\u001b[0m\u001b[0m\n\u001b[0m",
      "\u001b[0;32m~/anaconda3/lib/python3.7/site-packages/seaborn/distributions.py\u001b[0m in \u001b[0;36mdistplot\u001b[0;34m(a, bins, hist, kde, rug, fit, hist_kws, kde_kws, rug_kws, fit_kws, color, vertical, norm_hist, axlabel, label, ax)\u001b[0m\n\u001b[1;32m    196\u001b[0m             \u001b[0mline\u001b[0m\u001b[0;34m,\u001b[0m \u001b[0;34m=\u001b[0m \u001b[0max\u001b[0m\u001b[0;34m.\u001b[0m\u001b[0mplot\u001b[0m\u001b[0;34m(\u001b[0m\u001b[0;36m0\u001b[0m\u001b[0;34m,\u001b[0m \u001b[0ma\u001b[0m\u001b[0;34m.\u001b[0m\u001b[0mmean\u001b[0m\u001b[0;34m(\u001b[0m\u001b[0;34m)\u001b[0m\u001b[0;34m)\u001b[0m\u001b[0;34m\u001b[0m\u001b[0m\n\u001b[1;32m    197\u001b[0m         \u001b[0;32melse\u001b[0m\u001b[0;34m:\u001b[0m\u001b[0;34m\u001b[0m\u001b[0m\n\u001b[0;32m--> 198\u001b[0;31m             \u001b[0mline\u001b[0m\u001b[0;34m,\u001b[0m \u001b[0;34m=\u001b[0m \u001b[0max\u001b[0m\u001b[0;34m.\u001b[0m\u001b[0mplot\u001b[0m\u001b[0;34m(\u001b[0m\u001b[0ma\u001b[0m\u001b[0;34m.\u001b[0m\u001b[0mmean\u001b[0m\u001b[0;34m(\u001b[0m\u001b[0;34m)\u001b[0m\u001b[0;34m,\u001b[0m \u001b[0;36m0\u001b[0m\u001b[0;34m)\u001b[0m\u001b[0;34m\u001b[0m\u001b[0m\n\u001b[0m\u001b[1;32m    199\u001b[0m         \u001b[0mcolor\u001b[0m \u001b[0;34m=\u001b[0m \u001b[0mline\u001b[0m\u001b[0;34m.\u001b[0m\u001b[0mget_color\u001b[0m\u001b[0;34m(\u001b[0m\u001b[0;34m)\u001b[0m\u001b[0;34m\u001b[0m\u001b[0m\n\u001b[1;32m    200\u001b[0m         \u001b[0mline\u001b[0m\u001b[0;34m.\u001b[0m\u001b[0mremove\u001b[0m\u001b[0;34m(\u001b[0m\u001b[0;34m)\u001b[0m\u001b[0;34m\u001b[0m\u001b[0m\n",
      "\u001b[0;32m~/anaconda3/lib/python3.7/site-packages/numpy/core/_methods.py\u001b[0m in \u001b[0;36m_mean\u001b[0;34m(a, axis, dtype, out, keepdims)\u001b[0m\n\u001b[1;32m     73\u001b[0m             \u001b[0mis_float16_result\u001b[0m \u001b[0;34m=\u001b[0m \u001b[0;32mTrue\u001b[0m\u001b[0;34m\u001b[0m\u001b[0m\n\u001b[1;32m     74\u001b[0m \u001b[0;34m\u001b[0m\u001b[0m\n\u001b[0;32m---> 75\u001b[0;31m     \u001b[0mret\u001b[0m \u001b[0;34m=\u001b[0m \u001b[0mumr_sum\u001b[0m\u001b[0;34m(\u001b[0m\u001b[0marr\u001b[0m\u001b[0;34m,\u001b[0m \u001b[0maxis\u001b[0m\u001b[0;34m,\u001b[0m \u001b[0mdtype\u001b[0m\u001b[0;34m,\u001b[0m \u001b[0mout\u001b[0m\u001b[0;34m,\u001b[0m \u001b[0mkeepdims\u001b[0m\u001b[0;34m)\u001b[0m\u001b[0;34m\u001b[0m\u001b[0m\n\u001b[0m\u001b[1;32m     76\u001b[0m     \u001b[0;32mif\u001b[0m \u001b[0misinstance\u001b[0m\u001b[0;34m(\u001b[0m\u001b[0mret\u001b[0m\u001b[0;34m,\u001b[0m \u001b[0mmu\u001b[0m\u001b[0;34m.\u001b[0m\u001b[0mndarray\u001b[0m\u001b[0;34m)\u001b[0m\u001b[0;34m:\u001b[0m\u001b[0;34m\u001b[0m\u001b[0m\n\u001b[1;32m     77\u001b[0m         ret = um.true_divide(\n",
      "\u001b[0;31mTypeError\u001b[0m: cannot perform reduce with flexible type"
     ]
    },
    {
     "data": {
      "image/png": "[encoded data removed]",
      "text/plain": [
       "<Figure size 432x288 with 1 Axes>"
      ]
     },
     "metadata": {
      "needs_background": "light"
     },
     "output_type": "display_data"
    }
   ],
   "source": [
    "#plt.hist('Yearly Amount Spent')\n",
    "sns.distplot(\"Yearly Amount Spent\")"
   ]
  },
  {
   "cell_type": "markdown",
   "metadata": {},
   "source": [
    "## Conclusion\n",
    "We still want to figure out the answer to the original question, do we focus our efforts on mobile app or website development? Or maybe that doesn't even really matter, and Membership Time is what is really important.  Let's see if we can interpret the coefficients at all to get an idea.\n",
    "\n",
    "**18. Recreate the dataframe below. **\n",
    "10pts"
   ]
  },
  {
   "cell_type": "code",
   "execution_count": 30,
   "metadata": {},
   "outputs": [
    {
     "data": {
      "text/html": [
       "<div>\n",
       "<style scoped>\n",
       "    .dataframe tbody tr th:only-of-type {\n",
       "        vertical-align: middle;\n",
       "    }\n",
       "\n",
       "    .dataframe tbody tr th {\n",
       "        vertical-align: top;\n",
       "    }\n",
       "\n",
       "    .dataframe thead th {\n",
       "        text-align: right;\n",
       "    }\n",
       "</style>\n",
       "<table border=\"1\" class=\"dataframe\">\n",
       "  <thead>\n",
       "    <tr style=\"text-align: right;\">\n",
       "      <th></th>\n",
       "      <th>Coeffecient</th>\n",
       "    </tr>\n",
       "  </thead>\n",
       "  <tbody>\n",
       "    <tr>\n",
       "      <th>Avg. Session Length</th>\n",
       "      <td>25.981550</td>\n",
       "    </tr>\n",
       "    <tr>\n",
       "      <th>Time on App</th>\n",
       "      <td>38.590159</td>\n",
       "    </tr>\n",
       "    <tr>\n",
       "      <th>Time on Website</th>\n",
       "      <td>0.190405</td>\n",
       "    </tr>\n",
       "    <tr>\n",
       "      <th>Length of Membership</th>\n",
       "      <td>61.279097</td>\n",
       "    </tr>\n",
       "  </tbody>\n",
       "</table>\n",
       "</div>"
      ],
      "text/plain": [
       "                      Coeffecient\n",
       "Avg. Session Length     25.981550\n",
       "Time on App             38.590159\n",
       "Time on Website          0.190405\n",
       "Length of Membership    61.279097"
      ]
     },
     "execution_count": 30,
     "metadata": {},
     "output_type": "execute_result"
    }
   ],
   "source": []
  },
  {
   "cell_type": "markdown",
   "metadata": {},
   "source": [
    "**19. How can you interpret these coefficients? **\n",
    "10pts"
   ]
  },
  {
   "cell_type": "markdown",
   "metadata": {},
   "source": [
    "Answer here"
   ]
  },
  {
   "cell_type": "markdown",
   "metadata": {},
   "source": [
    "**20. Do you think the company should focus more on their mobile app or on their website?**\n",
    "10pts"
   ]
  },
  {
   "cell_type": "markdown",
   "metadata": {},
   "source": [
    "Answer here"
   ]
  },
  {
   "cell_type": "markdown",
   "metadata": {},
   "source": [
    "## Great Job!\n",
    "\n",
    "Congrats on your contract work! The company loved the insights! Let's move on."
   ]
  }
 ],
 "metadata": {
  "kernelspec": {
   "display_name": "Python 3",
   "language": "python",
   "name": "python3"
  },
  "language_info": {
   "codemirror_mode": {
    "name": "ipython",
    "version": 3
   },
   "file_extension": ".py",
   "mimetype": "text/x-python",
   "name": "python",
   "nbconvert_exporter": "python",
   "pygments_lexer": "ipython3",
   "version": "3.7.0"
  }
 },
 "nbformat": 4,
 "nbformat_minor": 1
}
